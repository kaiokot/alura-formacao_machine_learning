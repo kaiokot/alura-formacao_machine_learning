{
  "nbformat": 4,
  "nbformat_minor": 0,
  "metadata": {
    "colab": {
      "name": "Curso Machine Learning Alura - Aula #1",
      "provenance": []
    },
    "kernelspec": {
      "name": "python3",
      "display_name": "Python 3"
    },
    "language_info": {
      "name": "python"
    }
  },
  "cells": [
    {
      "cell_type": "code",
      "metadata": {
        "id": "3zbSPc8FwxhX"
      },
      "source": [
        "from sklearn.svm import LinearSVC\n",
        "# pelo longo?\n",
        "# perna curta?\n",
        "# faz auau?\n",
        "\n",
        "porco01 = [0,1,0]\n",
        "porco02 = [0,1,1]\n",
        "porco03 = [1,1,0]\n",
        "\n",
        "cachorro01  = [0,1,1]\n",
        "cachorro02  = [1,0,1]\n",
        "cachorro03  = [1,1,1]"
      ],
      "execution_count": null,
      "outputs": []
    },
    {
      "cell_type": "code",
      "metadata": {
        "id": "B7XgvjO3yey9"
      },
      "source": [
        "# porco => 0 , cachorro => 1\n",
        "treino_x = [porco01,porco02,porco03,cachorro01,cachorro02,cachorro03]\n",
        "\n",
        "treino_y = [0,0,0,1,1,1]"
      ],
      "execution_count": null,
      "outputs": []
    },
    {
      "cell_type": "code",
      "metadata": {
        "colab": {
          "base_uri": "https://localhost:8080/"
        },
        "id": "qykxXVNgyg05",
        "outputId": "40e305d3-fdee-48c6-b2d3-923d82abf65c"
      },
      "source": [
        "modelo = LinearSVC()\n",
        "\n",
        "modelo.fit(treino_x,treino_y)"
      ],
      "execution_count": null,
      "outputs": [
        {
          "output_type": "execute_result",
          "data": {
            "text/plain": [
              "LinearSVC(C=1.0, class_weight=None, dual=True, fit_intercept=True,\n",
              "          intercept_scaling=1, loss='squared_hinge', max_iter=1000,\n",
              "          multi_class='ovr', penalty='l2', random_state=None, tol=0.0001,\n",
              "          verbose=0)"
            ]
          },
          "metadata": {
            "tags": []
          },
          "execution_count": 3
        }
      ]
    },
    {
      "cell_type": "code",
      "metadata": {
        "colab": {
          "base_uri": "https://localhost:8080/"
        },
        "id": "omCu71uiyklF",
        "outputId": "4d184423-e060-4b0d-814e-c7f46ffce210"
      },
      "source": [
        "animal_misterioso = [1,0,1]\n",
        "\n",
        "modelo.predict([animal_misterioso])"
      ],
      "execution_count": null,
      "outputs": [
        {
          "output_type": "execute_result",
          "data": {
            "text/plain": [
              "array([1])"
            ]
          },
          "metadata": {
            "tags": []
          },
          "execution_count": 4
        }
      ]
    },
    {
      "cell_type": "code",
      "metadata": {
        "colab": {
          "base_uri": "https://localhost:8080/"
        },
        "id": "zq0r_p1AzBAS",
        "outputId": "fd895632-d874-42c0-919c-b1e804ff9552"
      },
      "source": [
        "misterio01 = [1,1,1]\n",
        "misterio02 = [1,1,0]\n",
        "misterio03 = [0,1,1]\n",
        "\n",
        "teste_x = [misterio01,misterio02, misterio03]\n",
        "teste_y = [1,0,0]\n",
        "\n",
        "previsoes = modelo.predict(teste_x)\n",
        "\n",
        "previsoes == teste_y"
      ],
      "execution_count": null,
      "outputs": [
        {
          "output_type": "execute_result",
          "data": {
            "text/plain": [
              "array([ True,  True, False])"
            ]
          },
          "metadata": {
            "tags": []
          },
          "execution_count": 5
        }
      ]
    },
    {
      "cell_type": "code",
      "metadata": {
        "colab": {
          "base_uri": "https://localhost:8080/"
        },
        "id": "vhjoP6Zkzu8r",
        "outputId": "bd77450b-3b04-41a1-9b5d-1d142cf717f5"
      },
      "source": [
        "from sklearn.metrics import accuracy_score\n",
        "\n",
        "taxa_de_acerto = accuracy_score(teste_y,previsoes)\n",
        "print(\"Taxa de acerto de %.2f\" % (taxa_de_acerto * 100))"
      ],
      "execution_count": null,
      "outputs": [
        {
          "output_type": "stream",
          "text": [
            "Taxa de acerto de 66.67\n"
          ],
          "name": "stdout"
        }
      ]
    }
  ]
}